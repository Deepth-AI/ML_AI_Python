{
  "nbformat": 4,
  "nbformat_minor": 0,
  "metadata": {
    "colab": {
      "provenance": []
    },
    "kernelspec": {
      "name": "python3",
      "display_name": "Python 3"
    },
    "language_info": {
      "name": "python"
    }
  },
  "cells": [
    {
      "cell_type": "code",
      "source": [
        "\n",
        "# Day 5 – Data Preprocessing\n",
        "\n",
        "import pandas as pd\n",
        "from sklearn.preprocessing import LabelEncoder, StandardScaler\n",
        "import kagglehub\n",
        "\n",
        "path = kagglehub.dataset_download(\"ashioyajotham/house-prices\")\n",
        "print(\"Path to dataset files:\", path)\n",
        "df = pd.read_csv(path + '/house_prices.csv') # Use the path variable and the correct filename\n",
        "print(\"Original DataFrame head:\")\n",
        "print(df.head())\n",
        "\n",
        "# Handle missing values\n",
        "df['LotFrontage'] = pd.to_numeric(df['LotFrontage'], errors='coerce') # Convert to numeric, coercing errors\n",
        "df['LotFrontage'] = df['LotFrontage'].fillna(df['LotFrontage'].median()) # Handle missing values\n",
        "\n",
        "# Encode categorical variables\n",
        "le = LabelEncoder()\n",
        "df['Street'] = le.fit_transform(df['Street'])\n",
        "\n",
        "# Scale numerical features\n",
        "scaler = StandardScaler()\n",
        "df[['LotArea', 'GrLivArea']] = scaler.fit_transform(df[['LotArea', 'GrLivArea']])\n",
        "\n",
        "print(\"\\nDataFrame head after Label Encoding and Scaling (showing key columns):\")\n",
        "print(df[['LotArea', 'GrLivArea', 'Street', 'SalePrice']].head())"
      ],
      "metadata": {
        "colab": {
          "base_uri": "https://localhost:8080/"
        },
        "id": "hrLSyWXexkjH",
        "outputId": "9ff8c344-d2b7-4540-ad35-49dcdbdc846a"
      },
      "execution_count": 35,
      "outputs": [
        {
          "output_type": "stream",
          "name": "stdout",
          "text": [
            "Using Colab cache for faster access to the 'house-prices' dataset.\n",
            "Path to dataset files: /kaggle/input/house-prices\n",
            "Original DataFrame head:\n",
            "   Id  MSSubClass MSZoning LotFrontage  LotArea Street Alley LotShape  \\\n",
            "0   1          60       RL        65.0     8450   Pave     ?      Reg   \n",
            "1   2          20       RL        80.0     9600   Pave     ?      Reg   \n",
            "2   3          60       RL        68.0    11250   Pave     ?      IR1   \n",
            "3   4          70       RL        60.0     9550   Pave     ?      IR1   \n",
            "4   5          60       RL        84.0    14260   Pave     ?      IR1   \n",
            "\n",
            "  LandContour Utilities  ... PoolArea PoolQC Fence MiscFeature MiscVal MoSold  \\\n",
            "0         Lvl    AllPub  ...        0      ?     ?           ?       0      2   \n",
            "1         Lvl    AllPub  ...        0      ?     ?           ?       0      5   \n",
            "2         Lvl    AllPub  ...        0      ?     ?           ?       0      9   \n",
            "3         Lvl    AllPub  ...        0      ?     ?           ?       0      2   \n",
            "4         Lvl    AllPub  ...        0      ?     ?           ?       0     12   \n",
            "\n",
            "  YrSold  SaleType  SaleCondition  SalePrice  \n",
            "0   2008        WD         Normal     208500  \n",
            "1   2007        WD         Normal     181500  \n",
            "2   2008        WD         Normal     223500  \n",
            "3   2006        WD        Abnorml     140000  \n",
            "4   2008        WD         Normal     250000  \n",
            "\n",
            "[5 rows x 81 columns]\n",
            "\n",
            "DataFrame head after Label Encoding and Scaling (showing key columns):\n",
            "    LotArea  GrLivArea  Street  SalePrice\n",
            "0 -0.207142   0.370333       1     208500\n",
            "1 -0.091886  -0.482512       1     181500\n",
            "2  0.073480   0.515013       1     223500\n",
            "3 -0.096897   0.383659       1     140000\n",
            "4  0.375148   1.299326       1     250000\n"
          ]
        }
      ]
    },
    {
      "cell_type": "code",
      "metadata": {
        "colab": {
          "base_uri": "https://localhost:8080/"
        },
        "id": "d2c0f0e6",
        "outputId": "8a82093b-c0a3-4fb7-994b-32bec1b45520"
      },
      "source": [
        "import os\n",
        "print(os.listdir(path))"
      ],
      "execution_count": 22,
      "outputs": [
        {
          "output_type": "stream",
          "name": "stdout",
          "text": [
            "['house_prices.csv']\n"
          ]
        }
      ]
    }
  ]
}