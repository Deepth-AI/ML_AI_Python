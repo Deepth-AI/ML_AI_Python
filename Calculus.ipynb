{
  "nbformat": 4,
  "nbformat_minor": 0,
  "metadata": {
    "colab": {
      "provenance": []
    },
    "kernelspec": {
      "name": "python3",
      "display_name": "Python 3"
    },
    "language_info": {
      "name": "python"
    }
  },
  "cells": [
    {
      "cell_type": "markdown",
      "source": [
        "#Day4- Calculus"
      ],
      "metadata": {
        "id": "zrDfBuVcCN4A"
      }
    },
    {
      "cell_type": "code",
      "source": [
        "#Day3- Calculus\n",
        "\n",
        "import numpy as np\n",
        "import sympy as sp\n",
        "\n"
      ],
      "metadata": {
        "id": "1zLqO5l6DhH6"
      },
      "execution_count": 3,
      "outputs": []
    },
    {
      "cell_type": "markdown",
      "source": [
        "#Symbolic Differentiation\n"
      ],
      "metadata": {
        "id": "zb6xaXqG3iPf"
      }
    },
    {
      "cell_type": "code",
      "source": [
        "x = sp.symbols('x')\n",
        "F = x**2 + 3*x + 1\n",
        "df = sp.diff(F,x)\n",
        "\n",
        "print(\"Function:\",F)\n",
        "print(\"Derivatie:\",df)\n",
        "\n",
        "df_at_2 = df.subs(x,2)\n",
        "print(\"Derivative at X eq 2:\",df_at_2)\n"
      ],
      "metadata": {
        "colab": {
          "base_uri": "https://localhost:8080/"
        },
        "id": "ytGfqbW73VGw",
        "outputId": "d6c26e4e-6f6c-42d1-9f1c-06fb4bc23ebc"
      },
      "execution_count": 8,
      "outputs": [
        {
          "output_type": "stream",
          "name": "stdout",
          "text": [
            "Function: x**2 + 3*x + 1\n",
            "Derivatie: 2*x + 3\n",
            "Derivative at X eq 2: 7\n"
          ]
        }
      ]
    },
    {
      "cell_type": "markdown",
      "source": [
        "#Numerical derivates\n"
      ],
      "metadata": {
        "id": "Tyw5TA5B3uLD"
      }
    },
    {
      "cell_type": "code",
      "source": [
        "\n",
        "def num_derv(F_num,x,h=1e-5):\n",
        "  return (F_num(x+h)-F_num(x-h))/ 2*h\n",
        "\n",
        "F_num = lambda x: x**2 + 3*x +1 #Test function\n",
        "print(num_derv(F_num,2))\n",
        "\n"
      ],
      "metadata": {
        "colab": {
          "base_uri": "https://localhost:8080/"
        },
        "id": "M6R1bNMH3Vm8",
        "outputId": "57c439cd-57ad-4ff1-ecde-fc72261c0ce6"
      },
      "execution_count": 11,
      "outputs": [
        {
          "output_type": "stream",
          "name": "stdout",
          "text": [
            "7.000000000090268e-10\n"
          ]
        }
      ]
    }
  ]
}