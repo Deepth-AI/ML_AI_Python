{
  "nbformat": 4,
  "nbformat_minor": 0,
  "metadata": {
    "colab": {
      "provenance": []
    },
    "kernelspec": {
      "name": "python3",
      "display_name": "Python 3"
    },
    "language_info": {
      "name": "python"
    }
  },
  "cells": [
    {
      "cell_type": "code",
      "source": [
        "#Day2- Python-Algebra\n",
        "\n",
        "import numpy as np\n",
        "\n",
        "rng = np.random.default_rng()\n",
        "\n",
        "#create Random numbers\n",
        "\n",
        "A = rng.integers(1,10,(3,3))\n",
        "b = rng.integers(1,10,(3,1))\n"
      ],
      "metadata": {
        "id": "1zLqO5l6DhH6"
      },
      "execution_count": 3,
      "outputs": []
    },
    {
      "cell_type": "markdown",
      "source": [
        "#Print the vectors A and b"
      ],
      "metadata": {
        "id": "zb6xaXqG3iPf"
      }
    },
    {
      "cell_type": "code",
      "source": [
        "A,b"
      ],
      "metadata": {
        "colab": {
          "base_uri": "https://localhost:8080/"
        },
        "id": "ytGfqbW73VGw",
        "outputId": "36071628-c214-4f1c-ffd7-d96414e18f88"
      },
      "execution_count": 6,
      "outputs": [
        {
          "output_type": "execute_result",
          "data": {
            "text/plain": [
              "(array([[3, 4, 2],\n",
              "        [7, 7, 5],\n",
              "        [6, 8, 4]]),\n",
              " array([[9],\n",
              "        [7],\n",
              "        [6]]))"
            ]
          },
          "metadata": {},
          "execution_count": 6
        }
      ]
    },
    {
      "cell_type": "markdown",
      "source": [
        "#print the Transpose of A"
      ],
      "metadata": {
        "id": "Tyw5TA5B3uLD"
      }
    },
    {
      "cell_type": "code",
      "source": [
        "A.T"
      ],
      "metadata": {
        "colab": {
          "base_uri": "https://localhost:8080/"
        },
        "id": "M6R1bNMH3Vm8",
        "outputId": "6da91eae-16f3-40f3-f848-17817795834e"
      },
      "execution_count": 7,
      "outputs": [
        {
          "output_type": "execute_result",
          "data": {
            "text/plain": [
              "array([[3, 7, 6],\n",
              "       [4, 7, 8],\n",
              "       [2, 5, 4]])"
            ]
          },
          "metadata": {},
          "execution_count": 7
        }
      ]
    },
    {
      "cell_type": "markdown",
      "source": [
        "#Dot product or Matrix multiplication in different ways.*"
      ],
      "metadata": {
        "id": "WnlQ7yCE33B7"
      }
    },
    {
      "cell_type": "code",
      "source": [
        "result=np.dot(A,b)\n",
        "result1= A @ b\n",
        "result,result1"
      ],
      "metadata": {
        "colab": {
          "base_uri": "https://localhost:8080/"
        },
        "id": "Pn_6VWTF38hq",
        "outputId": "5294ec8c-23d5-45fd-f55e-0d2d25c57f49"
      },
      "execution_count": 10,
      "outputs": [
        {
          "output_type": "execute_result",
          "data": {
            "text/plain": [
              "(array([[ 67],\n",
              "        [142],\n",
              "        [134]]),\n",
              " array([[ 67],\n",
              "        [142],\n",
              "        [134]]))"
            ]
          },
          "metadata": {},
          "execution_count": 10
        }
      ]
    },
    {
      "cell_type": "markdown",
      "source": [
        "\n",
        "#Compute determinant, eigenvalues\n"
      ],
      "metadata": {
        "id": "Qy7s3o9P3suV"
      }
    },
    {
      "cell_type": "code",
      "source": [
        "det=np.linalg.det(A)\n",
        "eigenvalues,eigenvectors=np.linalg.eig(A)\n",
        "det,eigenvalues,eigenvectors"
      ],
      "metadata": {
        "colab": {
          "base_uri": "https://localhost:8080/"
        },
        "id": "hh6dslJm4uwf",
        "outputId": "5587853f-f1b4-4918-fafa-beb24b99940d"
      },
      "execution_count": 11,
      "outputs": [
        {
          "output_type": "execute_result",
          "data": {
            "text/plain": [
              "(np.float64(0.0),\n",
              " array([ 1.52462113e+01,  2.48171887e-15, -1.24621125e+00]),\n",
              " array([[-0.32879797, -0.64699664,  0.32879797],\n",
              "        [-0.67783439,  0.10783277, -0.67783439],\n",
              "        [-0.65759595,  0.75482941,  0.65759595]]))"
            ]
          },
          "metadata": {},
          "execution_count": 11
        }
      ]
    }
  ]
}